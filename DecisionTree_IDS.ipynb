{
 "cells": [
  {
   "cell_type": "markdown",
   "metadata": {},
   "source": [
    "# Modelling Intrusion Detection: Analysis of a Feature Selection Mechanism\n",
    "\n",
    "## Method Description\n",
    "\n",
    "### Step 1: Data preprocessing:\n",
    "All features are made numerical using one-Hot-encoding. The features are scaled to avoid features with large values that may weigh too much in the results.\n",
    "\n",
    "### Step 2: Feature Selection:\n",
    "Eliminate redundant and irrelevant data by selecting a subset of relevant features that fully represents the given problem.\n",
    "Univariate feature selection with ANOVA F-test. This analyzes each feature individually to detemine the strength of the relationship between the feature and labels. Using SecondPercentile method (sklearn.feature_selection) to select features based on percentile of the highest scores. \n",
    "When this subset is found: Recursive Feature Elimination (RFE) is applied.\n",
    "\n",
    "### Step 4: Build the model:\n",
    "Decision tree model is built.\n",
    "\n",
    "### Step 5: Prediction & Evaluation (validation):\n",
    "Using the test data to make predictions of the model.\n",
    "Multiple scores are considered such as:accuracy score, recall, f-measure, confusion matrix.\n",
    "perform a 10-fold cross-validation."
   ]
  },
  {
   "cell_type": "markdown",
   "metadata": {},
   "source": [
    "## Version Check"
   ]
  },
  {
   "cell_type": "code",
   "execution_count": 28,
   "metadata": {},
   "outputs": [
    {
     "name": "stdout",
     "output_type": "stream",
     "text": [
      "1.2.5\n",
      "1.17.4\n",
      "3.8.5 (default, May 27 2021, 13:30:53) \n",
      "[GCC 9.3.0]\n",
      "0.24.2\n"
     ]
    }
   ],
   "source": [
    "import pandas as pd\n",
    "import numpy as np\n",
    "import sys\n",
    "import sklearn\n",
    "print(pd.__version__)\n",
    "print(np.__version__)\n",
    "print(sys.version)\n",
    "print(sklearn.__version__)"
   ]
  },
  {
   "cell_type": "markdown",
   "metadata": {},
   "source": [
    "## Creating Datasets"
   ]
  },
  {
   "cell_type": "code",
   "execution_count": 29,
   "metadata": {},
   "outputs": [
    {
     "name": "stdout",
     "output_type": "stream",
     "text": [
      "Ignored column Label\n"
     ]
    }
   ],
   "source": [
    "# loading every parts and concat them\n",
    "files = [\"Friday-WorkingHours-Afternoon-DDos.pcap_ISCX.csv\", \"Friday-WorkingHours-Afternoon-PortScan.pcap_ISCX.csv\",\n",
    "         \"Thursday-WorkingHours-Afternoon-Infilteration.pcap_ISCX.csv\",\n",
    "         \"Thursday-WorkingHours-Morning-WebAttacks.pcap_ISCX.csv\", \"Friday-WorkingHours-Morning.pcap_ISCX.csv\",\n",
    "         \"Tuesday-WorkingHours.pcap_ISCX.csv\", \"Wednesday-workingHours.pcap_ISCX.csv\"]\n",
    "\n",
    "#combine all files in the list\n",
    "combined_csv = pd.concat([pd.read_csv(f) for f in files])\n",
    "\n",
    "# drop entries with NaN values\n",
    "combined_csv.dropna(inplace=True)\n",
    "\n",
    "# drop entriers with values greater than max float\n",
    "for col in combined_csv.columns: \n",
    "        if(col == \" Label\") : print(\"Ignored column Label\")\n",
    "        \n",
    "        else : combined_csv = combined_csv.loc[(combined_csv[col] < np.finfo(np.float64).max )]\n",
    "\n",
    "# shuffle data\n",
    "combined_csv = combined_csv.sample(frac=1).reset_index(drop=True)\n",
    "\n",
    "# slice into train and test data sets\n",
    "chunk = int (combined_csv.shape[0]*75/100)  #ratio = 75 %  /  25% \n",
    "train_set =combined_csv.iloc[:chunk,:]\n",
    "test_set = combined_csv.iloc[chunk:,:]\n",
    "\n",
    "# exporting data sets\n",
    "train_set.to_csv(\"train_IDS2017.csv\", index=False)\n",
    "test_set.to_csv(\"test_IDS2017.csv\", index=False)"
   ]
  },
  {
   "cell_type": "markdown",
   "metadata": {},
   "source": [
    "## Load the Dataset"
   ]
  },
  {
   "cell_type": "code",
   "execution_count": 30,
   "metadata": {},
   "outputs": [
    {
     "name": "stdout",
     "output_type": "stream",
     "text": [
      "Dimensions of the Training set: (1723796, 79)\n",
      "Dimensions of the Test set: (574599, 79)\n"
     ]
    }
   ],
   "source": [
    "# train_IDS2017 & test_IDS2017 are the datafiles\n",
    "df = pd.read_csv(\"train_IDS2017.csv\")\n",
    "df_test = pd.read_csv(\"test_IDS2017.csv\")\n",
    "\n",
    "# shape, this gives the dimensions of the dataset\n",
    "print('Dimensions of the Training set:',df.shape)\n",
    "print('Dimensions of the Test set:',df_test.shape)"
   ]
  },
  {
   "cell_type": "markdown",
   "metadata": {},
   "source": [
    "## Sample view of the training dataset"
   ]
  },
  {
   "cell_type": "code",
   "execution_count": 31,
   "metadata": {},
   "outputs": [
    {
     "data": {
      "text/html": [
       "<div>\n",
       "<style scoped>\n",
       "    .dataframe tbody tr th:only-of-type {\n",
       "        vertical-align: middle;\n",
       "    }\n",
       "\n",
       "    .dataframe tbody tr th {\n",
       "        vertical-align: top;\n",
       "    }\n",
       "\n",
       "    .dataframe thead th {\n",
       "        text-align: right;\n",
       "    }\n",
       "</style>\n",
       "<table border=\"1\" class=\"dataframe\">\n",
       "  <thead>\n",
       "    <tr style=\"text-align: right;\">\n",
       "      <th></th>\n",
       "      <th>Destination Port</th>\n",
       "      <th>Flow Duration</th>\n",
       "      <th>Total Fwd Packets</th>\n",
       "      <th>Total Backward Packets</th>\n",
       "      <th>Total Length of Fwd Packets</th>\n",
       "      <th>Total Length of Bwd Packets</th>\n",
       "      <th>Fwd Packet Length Max</th>\n",
       "      <th>Fwd Packet Length Min</th>\n",
       "      <th>Fwd Packet Length Mean</th>\n",
       "      <th>Fwd Packet Length Std</th>\n",
       "      <th>...</th>\n",
       "      <th>min_seg_size_forward</th>\n",
       "      <th>Active Mean</th>\n",
       "      <th>Active Std</th>\n",
       "      <th>Active Max</th>\n",
       "      <th>Active Min</th>\n",
       "      <th>Idle Mean</th>\n",
       "      <th>Idle Std</th>\n",
       "      <th>Idle Max</th>\n",
       "      <th>Idle Min</th>\n",
       "      <th>Label</th>\n",
       "    </tr>\n",
       "  </thead>\n",
       "  <tbody>\n",
       "    <tr>\n",
       "      <th>0</th>\n",
       "      <td>39344</td>\n",
       "      <td>5322068</td>\n",
       "      <td>1</td>\n",
       "      <td>6</td>\n",
       "      <td>6</td>\n",
       "      <td>36</td>\n",
       "      <td>6</td>\n",
       "      <td>6</td>\n",
       "      <td>6.000000</td>\n",
       "      <td>0.000000</td>\n",
       "      <td>...</td>\n",
       "      <td>20</td>\n",
       "      <td>14199.0</td>\n",
       "      <td>0.0</td>\n",
       "      <td>14199</td>\n",
       "      <td>14199</td>\n",
       "      <td>5307869.0</td>\n",
       "      <td>0.0</td>\n",
       "      <td>5307869</td>\n",
       "      <td>5307869</td>\n",
       "      <td>BENIGN</td>\n",
       "    </tr>\n",
       "    <tr>\n",
       "      <th>1</th>\n",
       "      <td>80</td>\n",
       "      <td>81193164</td>\n",
       "      <td>7</td>\n",
       "      <td>7</td>\n",
       "      <td>372</td>\n",
       "      <td>11595</td>\n",
       "      <td>348</td>\n",
       "      <td>0</td>\n",
       "      <td>53.142857</td>\n",
       "      <td>130.050540</td>\n",
       "      <td>...</td>\n",
       "      <td>20</td>\n",
       "      <td>9298.0</td>\n",
       "      <td>0.0</td>\n",
       "      <td>9298</td>\n",
       "      <td>9298</td>\n",
       "      <td>81000000.0</td>\n",
       "      <td>0.0</td>\n",
       "      <td>81000000</td>\n",
       "      <td>81000000</td>\n",
       "      <td>DoS Hulk</td>\n",
       "    </tr>\n",
       "    <tr>\n",
       "      <th>2</th>\n",
       "      <td>80</td>\n",
       "      <td>5212710</td>\n",
       "      <td>5</td>\n",
       "      <td>7</td>\n",
       "      <td>256</td>\n",
       "      <td>6945</td>\n",
       "      <td>256</td>\n",
       "      <td>0</td>\n",
       "      <td>51.200000</td>\n",
       "      <td>114.486680</td>\n",
       "      <td>...</td>\n",
       "      <td>20</td>\n",
       "      <td>0.0</td>\n",
       "      <td>0.0</td>\n",
       "      <td>0</td>\n",
       "      <td>0</td>\n",
       "      <td>0.0</td>\n",
       "      <td>0.0</td>\n",
       "      <td>0</td>\n",
       "      <td>0</td>\n",
       "      <td>BENIGN</td>\n",
       "    </tr>\n",
       "    <tr>\n",
       "      <th>3</th>\n",
       "      <td>80</td>\n",
       "      <td>62812</td>\n",
       "      <td>3</td>\n",
       "      <td>5</td>\n",
       "      <td>351</td>\n",
       "      <td>11595</td>\n",
       "      <td>351</td>\n",
       "      <td>0</td>\n",
       "      <td>117.000000</td>\n",
       "      <td>202.649945</td>\n",
       "      <td>...</td>\n",
       "      <td>32</td>\n",
       "      <td>0.0</td>\n",
       "      <td>0.0</td>\n",
       "      <td>0</td>\n",
       "      <td>0</td>\n",
       "      <td>0.0</td>\n",
       "      <td>0.0</td>\n",
       "      <td>0</td>\n",
       "      <td>0</td>\n",
       "      <td>DoS Hulk</td>\n",
       "    </tr>\n",
       "    <tr>\n",
       "      <th>4</th>\n",
       "      <td>123</td>\n",
       "      <td>16517</td>\n",
       "      <td>1</td>\n",
       "      <td>1</td>\n",
       "      <td>48</td>\n",
       "      <td>48</td>\n",
       "      <td>48</td>\n",
       "      <td>48</td>\n",
       "      <td>48.000000</td>\n",
       "      <td>0.000000</td>\n",
       "      <td>...</td>\n",
       "      <td>20</td>\n",
       "      <td>0.0</td>\n",
       "      <td>0.0</td>\n",
       "      <td>0</td>\n",
       "      <td>0</td>\n",
       "      <td>0.0</td>\n",
       "      <td>0.0</td>\n",
       "      <td>0</td>\n",
       "      <td>0</td>\n",
       "      <td>BENIGN</td>\n",
       "    </tr>\n",
       "  </tbody>\n",
       "</table>\n",
       "<p>5 rows × 79 columns</p>\n",
       "</div>"
      ],
      "text/plain": [
       "    Destination Port   Flow Duration   Total Fwd Packets  \\\n",
       "0              39344         5322068                   1   \n",
       "1                 80        81193164                   7   \n",
       "2                 80         5212710                   5   \n",
       "3                 80           62812                   3   \n",
       "4                123           16517                   1   \n",
       "\n",
       "    Total Backward Packets  Total Length of Fwd Packets  \\\n",
       "0                        6                            6   \n",
       "1                        7                          372   \n",
       "2                        7                          256   \n",
       "3                        5                          351   \n",
       "4                        1                           48   \n",
       "\n",
       "    Total Length of Bwd Packets   Fwd Packet Length Max  \\\n",
       "0                            36                       6   \n",
       "1                         11595                     348   \n",
       "2                          6945                     256   \n",
       "3                         11595                     351   \n",
       "4                            48                      48   \n",
       "\n",
       "    Fwd Packet Length Min   Fwd Packet Length Mean   Fwd Packet Length Std  \\\n",
       "0                       6                 6.000000                0.000000   \n",
       "1                       0                53.142857              130.050540   \n",
       "2                       0                51.200000              114.486680   \n",
       "3                       0               117.000000              202.649945   \n",
       "4                      48                48.000000                0.000000   \n",
       "\n",
       "   ...   min_seg_size_forward  Active Mean   Active Std   Active Max  \\\n",
       "0  ...                     20      14199.0          0.0        14199   \n",
       "1  ...                     20       9298.0          0.0         9298   \n",
       "2  ...                     20          0.0          0.0            0   \n",
       "3  ...                     32          0.0          0.0            0   \n",
       "4  ...                     20          0.0          0.0            0   \n",
       "\n",
       "    Active Min   Idle Mean   Idle Std   Idle Max   Idle Min     Label  \n",
       "0        14199   5307869.0        0.0    5307869    5307869    BENIGN  \n",
       "1         9298  81000000.0        0.0   81000000   81000000  DoS Hulk  \n",
       "2            0         0.0        0.0          0          0    BENIGN  \n",
       "3            0         0.0        0.0          0          0  DoS Hulk  \n",
       "4            0         0.0        0.0          0          0    BENIGN  \n",
       "\n",
       "[5 rows x 79 columns]"
      ]
     },
     "execution_count": 31,
     "metadata": {},
     "output_type": "execute_result"
    }
   ],
   "source": [
    "# first five rows\n",
    "df.head(5)"
   ]
  },
  {
   "cell_type": "markdown",
   "metadata": {},
   "source": [
    "## Statistical Summary"
   ]
  },
  {
   "cell_type": "code",
   "execution_count": 32,
   "metadata": {},
   "outputs": [
    {
     "data": {
      "text/html": [
       "<div>\n",
       "<style scoped>\n",
       "    .dataframe tbody tr th:only-of-type {\n",
       "        vertical-align: middle;\n",
       "    }\n",
       "\n",
       "    .dataframe tbody tr th {\n",
       "        vertical-align: top;\n",
       "    }\n",
       "\n",
       "    .dataframe thead th {\n",
       "        text-align: right;\n",
       "    }\n",
       "</style>\n",
       "<table border=\"1\" class=\"dataframe\">\n",
       "  <thead>\n",
       "    <tr style=\"text-align: right;\">\n",
       "      <th></th>\n",
       "      <th>Destination Port</th>\n",
       "      <th>Flow Duration</th>\n",
       "      <th>Total Fwd Packets</th>\n",
       "      <th>Total Backward Packets</th>\n",
       "      <th>Total Length of Fwd Packets</th>\n",
       "      <th>Total Length of Bwd Packets</th>\n",
       "      <th>Fwd Packet Length Max</th>\n",
       "      <th>Fwd Packet Length Min</th>\n",
       "      <th>Fwd Packet Length Mean</th>\n",
       "      <th>Fwd Packet Length Std</th>\n",
       "      <th>...</th>\n",
       "      <th>act_data_pkt_fwd</th>\n",
       "      <th>min_seg_size_forward</th>\n",
       "      <th>Active Mean</th>\n",
       "      <th>Active Std</th>\n",
       "      <th>Active Max</th>\n",
       "      <th>Active Min</th>\n",
       "      <th>Idle Mean</th>\n",
       "      <th>Idle Std</th>\n",
       "      <th>Idle Max</th>\n",
       "      <th>Idle Min</th>\n",
       "    </tr>\n",
       "  </thead>\n",
       "  <tbody>\n",
       "    <tr>\n",
       "      <th>count</th>\n",
       "      <td>1.723796e+06</td>\n",
       "      <td>1.723796e+06</td>\n",
       "      <td>1.723796e+06</td>\n",
       "      <td>1.723796e+06</td>\n",
       "      <td>1.723796e+06</td>\n",
       "      <td>1.723796e+06</td>\n",
       "      <td>1.723796e+06</td>\n",
       "      <td>1.723796e+06</td>\n",
       "      <td>1.723796e+06</td>\n",
       "      <td>1.723796e+06</td>\n",
       "      <td>...</td>\n",
       "      <td>1.723796e+06</td>\n",
       "      <td>1.723796e+06</td>\n",
       "      <td>1.723796e+06</td>\n",
       "      <td>1.723796e+06</td>\n",
       "      <td>1.723796e+06</td>\n",
       "      <td>1.723796e+06</td>\n",
       "      <td>1.723796e+06</td>\n",
       "      <td>1.723796e+06</td>\n",
       "      <td>1.723796e+06</td>\n",
       "      <td>1.723796e+06</td>\n",
       "    </tr>\n",
       "    <tr>\n",
       "      <th>mean</th>\n",
       "      <td>7.470606e+03</td>\n",
       "      <td>1.583614e+07</td>\n",
       "      <td>9.351395e+00</td>\n",
       "      <td>1.042810e+01</td>\n",
       "      <td>5.469494e+02</td>\n",
       "      <td>1.650805e+04</td>\n",
       "      <td>2.117098e+02</td>\n",
       "      <td>1.833571e+01</td>\n",
       "      <td>5.999579e+01</td>\n",
       "      <td>7.166455e+01</td>\n",
       "      <td>...</td>\n",
       "      <td>5.092346e+00</td>\n",
       "      <td>-2.776945e+03</td>\n",
       "      <td>8.467509e+04</td>\n",
       "      <td>4.063266e+04</td>\n",
       "      <td>1.548646e+05</td>\n",
       "      <td>6.169928e+04</td>\n",
       "      <td>9.461003e+06</td>\n",
       "      <td>5.736089e+05</td>\n",
       "      <td>9.892166e+06</td>\n",
       "      <td>9.017300e+06</td>\n",
       "    </tr>\n",
       "    <tr>\n",
       "      <th>std</th>\n",
       "      <td>1.742827e+04</td>\n",
       "      <td>3.464414e+07</td>\n",
       "      <td>7.321452e+02</td>\n",
       "      <td>9.753259e+02</td>\n",
       "      <td>6.015465e+03</td>\n",
       "      <td>2.232356e+06</td>\n",
       "      <td>7.653291e+02</td>\n",
       "      <td>6.442765e+01</td>\n",
       "      <td>2.018646e+02</td>\n",
       "      <td>3.038700e+02</td>\n",
       "      <td>...</td>\n",
       "      <td>5.884400e+02</td>\n",
       "      <td>1.226724e+06</td>\n",
       "      <td>6.629659e+05</td>\n",
       "      <td>3.943243e+05</td>\n",
       "      <td>1.025116e+06</td>\n",
       "      <td>5.936543e+05</td>\n",
       "      <td>2.536225e+07</td>\n",
       "      <td>4.998360e+06</td>\n",
       "      <td>2.614349e+07</td>\n",
       "      <td>2.509603e+07</td>\n",
       "    </tr>\n",
       "    <tr>\n",
       "      <th>min</th>\n",
       "      <td>0.000000e+00</td>\n",
       "      <td>-1.300000e+01</td>\n",
       "      <td>1.000000e+00</td>\n",
       "      <td>0.000000e+00</td>\n",
       "      <td>0.000000e+00</td>\n",
       "      <td>0.000000e+00</td>\n",
       "      <td>0.000000e+00</td>\n",
       "      <td>0.000000e+00</td>\n",
       "      <td>0.000000e+00</td>\n",
       "      <td>0.000000e+00</td>\n",
       "      <td>...</td>\n",
       "      <td>0.000000e+00</td>\n",
       "      <td>-5.368707e+08</td>\n",
       "      <td>0.000000e+00</td>\n",
       "      <td>0.000000e+00</td>\n",
       "      <td>0.000000e+00</td>\n",
       "      <td>0.000000e+00</td>\n",
       "      <td>0.000000e+00</td>\n",
       "      <td>0.000000e+00</td>\n",
       "      <td>0.000000e+00</td>\n",
       "      <td>0.000000e+00</td>\n",
       "    </tr>\n",
       "    <tr>\n",
       "      <th>25%</th>\n",
       "      <td>5.300000e+01</td>\n",
       "      <td>1.490000e+02</td>\n",
       "      <td>1.000000e+00</td>\n",
       "      <td>1.000000e+00</td>\n",
       "      <td>6.000000e+00</td>\n",
       "      <td>2.000000e+00</td>\n",
       "      <td>6.000000e+00</td>\n",
       "      <td>0.000000e+00</td>\n",
       "      <td>6.000000e+00</td>\n",
       "      <td>0.000000e+00</td>\n",
       "      <td>...</td>\n",
       "      <td>0.000000e+00</td>\n",
       "      <td>2.000000e+01</td>\n",
       "      <td>0.000000e+00</td>\n",
       "      <td>0.000000e+00</td>\n",
       "      <td>0.000000e+00</td>\n",
       "      <td>0.000000e+00</td>\n",
       "      <td>0.000000e+00</td>\n",
       "      <td>0.000000e+00</td>\n",
       "      <td>0.000000e+00</td>\n",
       "      <td>0.000000e+00</td>\n",
       "    </tr>\n",
       "    <tr>\n",
       "      <th>50%</th>\n",
       "      <td>8.000000e+01</td>\n",
       "      <td>3.137400e+04</td>\n",
       "      <td>2.000000e+00</td>\n",
       "      <td>2.000000e+00</td>\n",
       "      <td>6.000000e+01</td>\n",
       "      <td>1.200000e+02</td>\n",
       "      <td>3.600000e+01</td>\n",
       "      <td>2.000000e+00</td>\n",
       "      <td>3.300000e+01</td>\n",
       "      <td>0.000000e+00</td>\n",
       "      <td>...</td>\n",
       "      <td>1.000000e+00</td>\n",
       "      <td>2.400000e+01</td>\n",
       "      <td>0.000000e+00</td>\n",
       "      <td>0.000000e+00</td>\n",
       "      <td>0.000000e+00</td>\n",
       "      <td>0.000000e+00</td>\n",
       "      <td>0.000000e+00</td>\n",
       "      <td>0.000000e+00</td>\n",
       "      <td>0.000000e+00</td>\n",
       "      <td>0.000000e+00</td>\n",
       "    </tr>\n",
       "    <tr>\n",
       "      <th>75%</th>\n",
       "      <td>4.430000e+02</td>\n",
       "      <td>4.679360e+06</td>\n",
       "      <td>5.000000e+00</td>\n",
       "      <td>4.000000e+00</td>\n",
       "      <td>1.880000e+02</td>\n",
       "      <td>5.680000e+02</td>\n",
       "      <td>8.200000e+01</td>\n",
       "      <td>3.500000e+01</td>\n",
       "      <td>4.942857e+01</td>\n",
       "      <td>2.327660e+01</td>\n",
       "      <td>...</td>\n",
       "      <td>2.000000e+00</td>\n",
       "      <td>3.200000e+01</td>\n",
       "      <td>0.000000e+00</td>\n",
       "      <td>0.000000e+00</td>\n",
       "      <td>0.000000e+00</td>\n",
       "      <td>0.000000e+00</td>\n",
       "      <td>0.000000e+00</td>\n",
       "      <td>0.000000e+00</td>\n",
       "      <td>0.000000e+00</td>\n",
       "      <td>0.000000e+00</td>\n",
       "    </tr>\n",
       "    <tr>\n",
       "      <th>max</th>\n",
       "      <td>6.553300e+04</td>\n",
       "      <td>1.200000e+08</td>\n",
       "      <td>2.079640e+05</td>\n",
       "      <td>2.846020e+05</td>\n",
       "      <td>2.321478e+06</td>\n",
       "      <td>6.270000e+08</td>\n",
       "      <td>2.482000e+04</td>\n",
       "      <td>2.325000e+03</td>\n",
       "      <td>5.940857e+03</td>\n",
       "      <td>7.049469e+03</td>\n",
       "      <td>...</td>\n",
       "      <td>1.986360e+05</td>\n",
       "      <td>1.380000e+02</td>\n",
       "      <td>1.100000e+08</td>\n",
       "      <td>7.420000e+07</td>\n",
       "      <td>1.100000e+08</td>\n",
       "      <td>1.100000e+08</td>\n",
       "      <td>1.200000e+08</td>\n",
       "      <td>7.690000e+07</td>\n",
       "      <td>1.200000e+08</td>\n",
       "      <td>1.200000e+08</td>\n",
       "    </tr>\n",
       "  </tbody>\n",
       "</table>\n",
       "<p>8 rows × 78 columns</p>\n",
       "</div>"
      ],
      "text/plain": [
       "        Destination Port   Flow Duration   Total Fwd Packets  \\\n",
       "count       1.723796e+06    1.723796e+06        1.723796e+06   \n",
       "mean        7.470606e+03    1.583614e+07        9.351395e+00   \n",
       "std         1.742827e+04    3.464414e+07        7.321452e+02   \n",
       "min         0.000000e+00   -1.300000e+01        1.000000e+00   \n",
       "25%         5.300000e+01    1.490000e+02        1.000000e+00   \n",
       "50%         8.000000e+01    3.137400e+04        2.000000e+00   \n",
       "75%         4.430000e+02    4.679360e+06        5.000000e+00   \n",
       "max         6.553300e+04    1.200000e+08        2.079640e+05   \n",
       "\n",
       "        Total Backward Packets  Total Length of Fwd Packets  \\\n",
       "count             1.723796e+06                 1.723796e+06   \n",
       "mean              1.042810e+01                 5.469494e+02   \n",
       "std               9.753259e+02                 6.015465e+03   \n",
       "min               0.000000e+00                 0.000000e+00   \n",
       "25%               1.000000e+00                 6.000000e+00   \n",
       "50%               2.000000e+00                 6.000000e+01   \n",
       "75%               4.000000e+00                 1.880000e+02   \n",
       "max               2.846020e+05                 2.321478e+06   \n",
       "\n",
       "        Total Length of Bwd Packets   Fwd Packet Length Max  \\\n",
       "count                  1.723796e+06            1.723796e+06   \n",
       "mean                   1.650805e+04            2.117098e+02   \n",
       "std                    2.232356e+06            7.653291e+02   \n",
       "min                    0.000000e+00            0.000000e+00   \n",
       "25%                    2.000000e+00            6.000000e+00   \n",
       "50%                    1.200000e+02            3.600000e+01   \n",
       "75%                    5.680000e+02            8.200000e+01   \n",
       "max                    6.270000e+08            2.482000e+04   \n",
       "\n",
       "        Fwd Packet Length Min   Fwd Packet Length Mean  \\\n",
       "count            1.723796e+06             1.723796e+06   \n",
       "mean             1.833571e+01             5.999579e+01   \n",
       "std              6.442765e+01             2.018646e+02   \n",
       "min              0.000000e+00             0.000000e+00   \n",
       "25%              0.000000e+00             6.000000e+00   \n",
       "50%              2.000000e+00             3.300000e+01   \n",
       "75%              3.500000e+01             4.942857e+01   \n",
       "max              2.325000e+03             5.940857e+03   \n",
       "\n",
       "        Fwd Packet Length Std  ...   act_data_pkt_fwd   min_seg_size_forward  \\\n",
       "count            1.723796e+06  ...       1.723796e+06           1.723796e+06   \n",
       "mean             7.166455e+01  ...       5.092346e+00          -2.776945e+03   \n",
       "std              3.038700e+02  ...       5.884400e+02           1.226724e+06   \n",
       "min              0.000000e+00  ...       0.000000e+00          -5.368707e+08   \n",
       "25%              0.000000e+00  ...       0.000000e+00           2.000000e+01   \n",
       "50%              0.000000e+00  ...       1.000000e+00           2.400000e+01   \n",
       "75%              2.327660e+01  ...       2.000000e+00           3.200000e+01   \n",
       "max              7.049469e+03  ...       1.986360e+05           1.380000e+02   \n",
       "\n",
       "        Active Mean    Active Std    Active Max    Active Min     Idle Mean  \\\n",
       "count  1.723796e+06  1.723796e+06  1.723796e+06  1.723796e+06  1.723796e+06   \n",
       "mean   8.467509e+04  4.063266e+04  1.548646e+05  6.169928e+04  9.461003e+06   \n",
       "std    6.629659e+05  3.943243e+05  1.025116e+06  5.936543e+05  2.536225e+07   \n",
       "min    0.000000e+00  0.000000e+00  0.000000e+00  0.000000e+00  0.000000e+00   \n",
       "25%    0.000000e+00  0.000000e+00  0.000000e+00  0.000000e+00  0.000000e+00   \n",
       "50%    0.000000e+00  0.000000e+00  0.000000e+00  0.000000e+00  0.000000e+00   \n",
       "75%    0.000000e+00  0.000000e+00  0.000000e+00  0.000000e+00  0.000000e+00   \n",
       "max    1.100000e+08  7.420000e+07  1.100000e+08  1.100000e+08  1.200000e+08   \n",
       "\n",
       "           Idle Std      Idle Max      Idle Min  \n",
       "count  1.723796e+06  1.723796e+06  1.723796e+06  \n",
       "mean   5.736089e+05  9.892166e+06  9.017300e+06  \n",
       "std    4.998360e+06  2.614349e+07  2.509603e+07  \n",
       "min    0.000000e+00  0.000000e+00  0.000000e+00  \n",
       "25%    0.000000e+00  0.000000e+00  0.000000e+00  \n",
       "50%    0.000000e+00  0.000000e+00  0.000000e+00  \n",
       "75%    0.000000e+00  0.000000e+00  0.000000e+00  \n",
       "max    7.690000e+07  1.200000e+08  1.200000e+08  \n",
       "\n",
       "[8 rows x 78 columns]"
      ]
     },
     "execution_count": 32,
     "metadata": {},
     "output_type": "execute_result"
    }
   ],
   "source": [
    "df.describe()"
   ]
  },
  {
   "cell_type": "markdown",
   "metadata": {},
   "source": [
    "## Label Distribution of Training and Test set"
   ]
  },
  {
   "cell_type": "code",
   "execution_count": 33,
   "metadata": {},
   "outputs": [
    {
     "name": "stdout",
     "output_type": "stream",
     "text": [
      "Label distribution Training set:\n",
      "BENIGN                        1306151\n",
      "DoS Hulk                       172736\n",
      "PortScan                       119174\n",
      "DDoS                            96060\n",
      "DoS GoldenEye                    7760\n",
      "FTP-Patator                      5967\n",
      "SSH-Patator                      4382\n",
      "DoS slowloris                    4378\n",
      "DoS Slowhttptest                 4064\n",
      "Bot                              1460\n",
      "Web Attack � Brute Force         1115\n",
      "Web Attack � XSS                  501\n",
      "Infiltration                       25\n",
      "Web Attack � Sql Injection         14\n",
      "Heartbleed                          9\n",
      "Name:  Label, dtype: int64\n",
      "\n",
      "Label distribution Test set:\n",
      "BENIGN                        435688\n",
      "DoS Hulk                       57388\n",
      "PortScan                       39630\n",
      "DDoS                           31965\n",
      "DoS GoldenEye                   2533\n",
      "FTP-Patator                     1968\n",
      "SSH-Patator                     1515\n",
      "DoS Slowhttptest                1435\n",
      "DoS slowloris                   1418\n",
      "Bot                              496\n",
      "Web Attack � Brute Force         392\n",
      "Web Attack � XSS                 151\n",
      "Infiltration                      11\n",
      "Web Attack � Sql Injection         7\n",
      "Heartbleed                         2\n",
      "Name:  Label, dtype: int64\n"
     ]
    }
   ],
   "source": [
    "print('Label distribution Training set:')\n",
    "print(df[' Label'].value_counts())\n",
    "print()\n",
    "print('Label distribution Test set:')\n",
    "print(df_test[' Label'].value_counts())"
   ]
  },
  {
   "cell_type": "markdown",
   "metadata": {},
   "source": [
    "## Removing 700k BENIGN from training set"
   ]
  },
  {
   "cell_type": "code",
   "execution_count": 35,
   "metadata": {},
   "outputs": [],
   "source": [
    "# shuffle entries\n",
    "df = df.sample(frac=1).reset_index(drop=True)\n",
    "\n",
    "# removing the first 700k\n",
    "c = 0\n",
    "to_remove = []\n",
    "for i, row in df.iterrows():\n",
    "    if (c < 700000) & (row[' Label']  == \"BENIGN\"):\n",
    "        to_remove.append(i)\n",
    "        c += 1\n",
    "    elif (c >= 700000):\n",
    "        break\n",
    "\n",
    "df.drop(to_remove, inplace=True)\n",
    "\n",
    "# shuffle entries\n",
    "df = df.sample(frac=1).reset_index(drop=True)"
   ]
  },
  {
   "cell_type": "code",
   "execution_count": 36,
   "metadata": {},
   "outputs": [
    {
     "name": "stdout",
     "output_type": "stream",
     "text": [
      "Label distribution Training set:\n",
      "BENIGN                        606151\n",
      "DoS Hulk                      172736\n",
      "PortScan                      119174\n",
      "DDoS                           96060\n",
      "DoS GoldenEye                   7760\n",
      "FTP-Patator                     5967\n",
      "SSH-Patator                     4382\n",
      "DoS slowloris                   4378\n",
      "DoS Slowhttptest                4064\n",
      "Bot                             1460\n",
      "Web Attack � Brute Force        1115\n",
      "Web Attack � XSS                 501\n",
      "Infiltration                      25\n",
      "Web Attack � Sql Injection        14\n",
      "Heartbleed                         9\n",
      "Name:  Label, dtype: int64\n"
     ]
    }
   ],
   "source": [
    "print('Label distribution Training set:')\n",
    "print(df[' Label'].value_counts())"
   ]
  },
  {
   "cell_type": "markdown",
   "metadata": {},
   "source": [
    "# Step 1: Data preprocessing:"
   ]
  },
  {
   "cell_type": "markdown",
   "metadata": {},
   "source": [
    "# Split Dataset into 4 datasets for every attack category\n",
    "## Rename every attack label: 0=normal, 1=DoS, 2=Probe, 3=Web and 4=Infil.\n",
    "## Replace labels column with new labels column\n",
    "## Make new datasets\n"
   ]
  },
  {
   "cell_type": "code",
   "execution_count": 37,
   "metadata": {},
   "outputs": [
    {
     "name": "stdout",
     "output_type": "stream",
     "text": [
      "Label distribution Training set:\n",
      "0    606151\n",
      "1    286458\n",
      "2    119174\n",
      "4     10383\n",
      "3      1630\n",
      "Name:  Label, dtype: int64\n",
      "\n",
      "Label distribution Test set:\n",
      "0    435688\n",
      "1     95235\n",
      "2     39630\n",
      "4      3496\n",
      "3       550\n",
      "Name:  Label, dtype: int64\n"
     ]
    }
   ],
   "source": [
    "# take label column\n",
    "labeldf=df[' Label']\n",
    "labeldf_test=df_test[' Label']\n",
    "# change the label column\n",
    "newlabeldf=labeldf.replace({ 'BENIGN' : 0,\n",
    "                            'DDoS' : 1, \"DoS Hulk\" : 1, \"DoS GoldenEye\" : 1, \"DoS slowloris\" : 1,\n",
    "                            \"DoS Slowhttptest\" : 1, \"Bot\" : 1,\n",
    "                            'PortScan' : 2, 'Web Attack � Brute Force': 3,\n",
    "                            'Web Attack � XSS': 3, 'Web Attack � Sql Injection': 3,\n",
    "                            'Infiltration': 4, \"FTP-Patator\" : 4, \"SSH-Patator\" : 4, \"Heartbleed\" : 4})\n",
    "newlabeldf_test=labeldf_test.replace({ 'BENIGN' : 0,\n",
    "                            'DDoS' : 1, \"DoS Hulk\" : 1, \"DoS GoldenEye\" : 1, \"DoS slowloris\" : 1,\n",
    "                            \"DoS Slowhttptest\" : 1, \"Bot\" : 1,\n",
    "                            'PortScan' : 2, 'Web Attack � Brute Force': 3,\n",
    "                            'Web Attack � XSS': 3, 'Web Attack � Sql Injection': 3,\n",
    "                            'Infiltration': 4, \"FTP-Patator\" : 4, \"SSH-Patator\" : 4, \"Heartbleed\" : 4})\n",
    "# put the new label column back\n",
    "df[' Label'] = newlabeldf\n",
    "df_test[' Label'] = newlabeldf_test\n",
    "\n",
    "# Printing labels to check every old label was assign a category\n",
    "print('Label distribution Training set:')\n",
    "print(df[' Label'].value_counts())\n",
    "print()\n",
    "print('Label distribution Test set:')\n",
    "print(df_test[' Label'].value_counts())"
   ]
  },
  {
   "cell_type": "code",
   "execution_count": 38,
   "metadata": {},
   "outputs": [
    {
     "name": "stdout",
     "output_type": "stream",
     "text": [
      "Train:\n",
      "Dimensions of DoS: (892609, 79)\n",
      "Dimensions of Probe: (725325, 79)\n",
      "Dimensions of Web: (607781, 79)\n",
      "Dimensions of Infil: (616534, 79)\n",
      "Test:\n",
      "Dimensions of DoS: (530923, 79)\n",
      "Dimensions of Probe: (475318, 79)\n",
      "Dimensions of Web: (436238, 79)\n",
      "Dimensions of Infil: (439184, 79)\n"
     ]
    }
   ],
   "source": [
    "to_drop_DoS = [2,3,4]\n",
    "to_drop_Probe = [1,3,4]\n",
    "to_drop_Web = [1,2,4]\n",
    "to_drop_Infil = [1,2,3]\n",
    "DoS_df=df[~df[' Label'].isin(to_drop_DoS)];\n",
    "Probe_df=df[~df[' Label'].isin(to_drop_Probe)];\n",
    "Web_df=df[~df[' Label'].isin(to_drop_Web)];\n",
    "Infil_df=df[~df[' Label'].isin(to_drop_Infil)];\n",
    "\n",
    "#test\n",
    "DoS_df_test=df_test[~df_test[' Label'].isin(to_drop_DoS)];\n",
    "Probe_df_test=df_test[~df_test[' Label'].isin(to_drop_Probe)];\n",
    "Web_df_test=df_test[~df_test[' Label'].isin(to_drop_Web)];\n",
    "Infil_df_test=df_test[~df_test[' Label'].isin(to_drop_Infil)];\n",
    "print('Train:')\n",
    "print('Dimensions of DoS:' ,DoS_df.shape)\n",
    "print('Dimensions of Probe:' ,Probe_df.shape)\n",
    "print('Dimensions of Web:' ,Web_df.shape)\n",
    "print('Dimensions of Infil:' ,Infil_df.shape)\n",
    "print('Test:')\n",
    "print('Dimensions of DoS:' ,DoS_df_test.shape)\n",
    "print('Dimensions of Probe:' ,Probe_df_test.shape)\n",
    "print('Dimensions of Web:' ,Web_df_test.shape)\n",
    "print('Dimensions of Infil:' ,Infil_df_test.shape)"
   ]
  },
  {
   "cell_type": "markdown",
   "metadata": {},
   "source": [
    "# Step 2: Feature Scaling:"
   ]
  },
  {
   "cell_type": "code",
   "execution_count": 39,
   "metadata": {},
   "outputs": [],
   "source": [
    "# Split dataframes into X & Y\n",
    "# assign X as a dataframe of feautures and Y as a series of outcome variables\n",
    "X_DoS = DoS_df.drop(' Label',1)\n",
    "Y_DoS = DoS_df[' Label']\n",
    "X_Probe = Probe_df.drop(' Label',1)\n",
    "Y_Probe = Probe_df[' Label']\n",
    "X_Web = Web_df.drop(' Label',1)\n",
    "Y_Web = Web_df[' Label']\n",
    "X_Infil = Infil_df.drop(' Label',1)\n",
    "Y_Infil = Infil_df[' Label']\n",
    "# test set\n",
    "X_DoS_test = DoS_df_test.drop(' Label',1)\n",
    "Y_DoS_test = DoS_df_test[' Label']\n",
    "X_Probe_test = Probe_df_test.drop(' Label',1)\n",
    "Y_Probe_test = Probe_df_test[' Label']\n",
    "X_Web_test = Web_df_test.drop(' Label',1)\n",
    "Y_Web_test = Web_df_test[' Label']\n",
    "X_Infil_test = Infil_df_test.drop(' Label',1)\n",
    "Y_Infil_test = Infil_df_test[' Label']"
   ]
  },
  {
   "cell_type": "markdown",
   "metadata": {},
   "source": [
    "### Save a list of feature names for later use (it is the same for every attack category). Column names are dropped at this stage."
   ]
  },
  {
   "cell_type": "code",
   "execution_count": 40,
   "metadata": {},
   "outputs": [],
   "source": [
    "colNames=list(X_DoS)\n",
    "colNames_test=list(X_DoS_test)"
   ]
  },
  {
   "cell_type": "markdown",
   "metadata": {},
   "source": [
    "## Use StandardScaler() to scale the dataframes"
   ]
  },
  {
   "cell_type": "code",
   "execution_count": 41,
   "metadata": {},
   "outputs": [],
   "source": [
    "from sklearn import preprocessing\n",
    "scaler1 = preprocessing.StandardScaler().fit(X_DoS)\n",
    "X_DoS=scaler1.transform(X_DoS) \n",
    "scaler2 = preprocessing.StandardScaler().fit(X_Probe)\n",
    "X_Probe=scaler2.transform(X_Probe) \n",
    "scaler3 = preprocessing.StandardScaler().fit(X_Web)\n",
    "X_Web=scaler3.transform(X_Web) \n",
    "scaler4 = preprocessing.StandardScaler().fit(X_Infil)\n",
    "X_Infil=scaler4.transform(X_Infil) \n",
    "# test data\n",
    "scaler5 = preprocessing.StandardScaler().fit(X_DoS_test)\n",
    "X_DoS_test=scaler5.transform(X_DoS_test) \n",
    "scaler6 = preprocessing.StandardScaler().fit(X_Probe_test)\n",
    "X_Probe_test=scaler6.transform(X_Probe_test) \n",
    "scaler7 = preprocessing.StandardScaler().fit(X_Web_test)\n",
    "X_Web_test=scaler7.transform(X_Web_test) \n",
    "scaler8 = preprocessing.StandardScaler().fit(X_Infil_test)\n",
    "X_Infil_test=scaler8.transform(X_Infil_test) "
   ]
  },
  {
   "cell_type": "markdown",
   "metadata": {},
   "source": [
    "### Check that the Standard Deviation is 1"
   ]
  },
  {
   "cell_type": "code",
   "execution_count": 42,
   "metadata": {},
   "outputs": [
    {
     "name": "stdout",
     "output_type": "stream",
     "text": [
      "[1. 1. 1. 1. 1. 1. 1. 1. 1. 1. 1. 1. 1. 1. 1. 1. 1. 1. 1. 1. 1. 1. 1. 1.\n",
      " 1. 1. 1. 1. 1. 1. 1. 0. 1. 0. 1. 1. 1. 1. 1. 1. 1. 1. 1. 1. 1. 1. 1. 1.\n",
      " 1. 1. 1. 1. 1. 1. 1. 1. 0. 0. 0. 0. 0. 0. 1. 1. 1. 1. 1. 1. 1. 1. 1. 1.\n",
      " 1. 1. 1. 1. 1. 1.]\n"
     ]
    }
   ],
   "source": [
    "print(X_DoS.std(axis=0))"
   ]
  },
  {
   "cell_type": "code",
   "execution_count": 43,
   "metadata": {},
   "outputs": [],
   "source": [
    "X_Probe.std(axis=0);\n",
    "X_Web.std(axis=0);\n",
    "X_Infil.std(axis=0);"
   ]
  },
  {
   "cell_type": "markdown",
   "metadata": {},
   "source": [
    "# Step 3: Feature Selection:"
   ]
  },
  {
   "cell_type": "markdown",
   "metadata": {},
   "source": [
    "# 1. Univariate Feature Selection using ANOVA F-test"
   ]
  },
  {
   "cell_type": "code",
   "execution_count": 44,
   "metadata": {},
   "outputs": [
    {
     "name": "stderr",
     "output_type": "stream",
     "text": [
      "/home/infres/mhyounet/.local/lib/python3.8/site-packages/sklearn/feature_selection/_univariate_selection.py:114: UserWarning: Features [31 33 56 57 58 59 60 61] are constant.\n",
      "  warnings.warn(\"Features %s are constant.\" % constant_features_idx,\n"
     ]
    },
    {
     "data": {
      "text/plain": [
       "(892609, 8)"
      ]
     },
     "execution_count": 44,
     "metadata": {},
     "output_type": "execute_result"
    }
   ],
   "source": [
    "#univariate feature selection with ANOVA F-test. using secondPercentile method, then RFE\n",
    "#Scikit-learn exposes feature selection routines as objects that implement the transform method\n",
    "#SelectPercentile: removes all but a user-specified highest scoring percentage of features\n",
    "#f_classif: ANOVA F-value between label/feature for classification tasks.\n",
    "from sklearn.feature_selection import SelectPercentile, f_classif\n",
    "np.seterr(divide='ignore', invalid='ignore');\n",
    "selector=SelectPercentile(f_classif, percentile=10)\n",
    "X_newDoS = selector.fit_transform(X_DoS,Y_DoS)\n",
    "X_newDoS.shape"
   ]
  },
  {
   "cell_type": "markdown",
   "metadata": {},
   "source": [
    "### Get the features that were selected: DoS"
   ]
  },
  {
   "cell_type": "code",
   "execution_count": 45,
   "metadata": {},
   "outputs": [
    {
     "data": {
      "text/plain": [
       "['Bwd Packet Length Max',\n",
       " ' Bwd Packet Length Mean',\n",
       " ' Bwd Packet Length Std',\n",
       " ' Max Packet Length',\n",
       " ' Packet Length Mean',\n",
       " ' Packet Length Std',\n",
       " ' Average Packet Size',\n",
       " ' Avg Bwd Segment Size']"
      ]
     },
     "execution_count": 45,
     "metadata": {},
     "output_type": "execute_result"
    }
   ],
   "source": [
    "true=selector.get_support()\n",
    "newcolindex_DoS=[i for i, x in enumerate(true) if x]\n",
    "newcolname_DoS=list( colNames[i] for i in newcolindex_DoS )\n",
    "newcolname_DoS"
   ]
  },
  {
   "cell_type": "code",
   "execution_count": 46,
   "metadata": {},
   "outputs": [
    {
     "name": "stderr",
     "output_type": "stream",
     "text": [
      "/home/infres/mhyounet/.local/lib/python3.8/site-packages/sklearn/feature_selection/_univariate_selection.py:114: UserWarning: Features [31 33 56 57 58 59 60 61] are constant.\n",
      "  warnings.warn(\"Features %s are constant.\" % constant_features_idx,\n"
     ]
    },
    {
     "data": {
      "text/plain": [
       "(725325, 8)"
      ]
     },
     "execution_count": 46,
     "metadata": {},
     "output_type": "execute_result"
    }
   ],
   "source": [
    "X_newProbe = selector.fit_transform(X_Probe,Y_Probe)\n",
    "X_newProbe.shape"
   ]
  },
  {
   "cell_type": "markdown",
   "metadata": {},
   "source": [
    "### Get the features that were selected: Probe"
   ]
  },
  {
   "cell_type": "code",
   "execution_count": 47,
   "metadata": {},
   "outputs": [
    {
     "data": {
      "text/plain": [
       "[' Bwd Packet Length Min',\n",
       " ' Bwd Packet Length Mean',\n",
       " ' Min Packet Length',\n",
       " ' Packet Length Mean',\n",
       " ' PSH Flag Count',\n",
       " ' ACK Flag Count',\n",
       " ' Average Packet Size',\n",
       " 'Init_Win_bytes_forward']"
      ]
     },
     "execution_count": 47,
     "metadata": {},
     "output_type": "execute_result"
    }
   ],
   "source": [
    "true=selector.get_support()\n",
    "newcolindex_Probe=[i for i, x in enumerate(true) if x]\n",
    "newcolname_Probe=list( colNames[i] for i in newcolindex_Probe )\n",
    "newcolname_Probe"
   ]
  },
  {
   "cell_type": "code",
   "execution_count": 48,
   "metadata": {},
   "outputs": [
    {
     "name": "stderr",
     "output_type": "stream",
     "text": [
      "/home/infres/mhyounet/.local/lib/python3.8/site-packages/sklearn/feature_selection/_univariate_selection.py:114: UserWarning: Features [31 33 56 57 58 59 60 61] are constant.\n",
      "  warnings.warn(\"Features %s are constant.\" % constant_features_idx,\n"
     ]
    },
    {
     "data": {
      "text/plain": [
       "(607781, 8)"
      ]
     },
     "execution_count": 48,
     "metadata": {},
     "output_type": "execute_result"
    }
   ],
   "source": [
    "X_newWeb = selector.fit_transform(X_Web,Y_Web)\n",
    "X_newWeb.shape"
   ]
  },
  {
   "cell_type": "markdown",
   "metadata": {},
   "source": [
    "### Get the features that were selected: Web"
   ]
  },
  {
   "cell_type": "code",
   "execution_count": 49,
   "metadata": {},
   "outputs": [
    {
     "data": {
      "text/plain": [
       "[' Destination Port',\n",
       " ' Bwd Packet Length Min',\n",
       " ' Min Packet Length',\n",
       " ' PSH Flag Count',\n",
       " ' Down/Up Ratio',\n",
       " ' Average Packet Size',\n",
       " 'Init_Win_bytes_forward',\n",
       " ' Init_Win_bytes_backward']"
      ]
     },
     "execution_count": 49,
     "metadata": {},
     "output_type": "execute_result"
    }
   ],
   "source": [
    "true=selector.get_support()\n",
    "newcolindex_Web=[i for i, x in enumerate(true) if x]\n",
    "newcolname_Web=list( colNames[i] for i in newcolindex_Web)\n",
    "newcolname_Web"
   ]
  },
  {
   "cell_type": "code",
   "execution_count": 50,
   "metadata": {},
   "outputs": [
    {
     "name": "stderr",
     "output_type": "stream",
     "text": [
      "/home/infres/mhyounet/.local/lib/python3.8/site-packages/sklearn/feature_selection/_univariate_selection.py:114: UserWarning: Features [31 33 56 57 58 59 60 61] are constant.\n",
      "  warnings.warn(\"Features %s are constant.\" % constant_features_idx,\n"
     ]
    },
    {
     "data": {
      "text/plain": [
       "(616534, 8)"
      ]
     },
     "execution_count": 50,
     "metadata": {},
     "output_type": "execute_result"
    }
   ],
   "source": [
    "X_newInfil = selector.fit_transform(X_Infil,Y_Infil)\n",
    "X_newInfil.shape"
   ]
  },
  {
   "cell_type": "markdown",
   "metadata": {},
   "source": [
    "### Get the features that were selected: Infil"
   ]
  },
  {
   "cell_type": "code",
   "execution_count": 51,
   "metadata": {},
   "outputs": [
    {
     "data": {
      "text/plain": [
       "[' Bwd Packet Length Min',\n",
       " 'Fwd PSH Flags',\n",
       " ' Min Packet Length',\n",
       " ' SYN Flag Count',\n",
       " ' PSH Flag Count',\n",
       " ' ACK Flag Count',\n",
       " ' Average Packet Size',\n",
       " 'Init_Win_bytes_forward']"
      ]
     },
     "execution_count": 51,
     "metadata": {},
     "output_type": "execute_result"
    }
   ],
   "source": [
    "true=selector.get_support()\n",
    "newcolindex_Infil=[i for i, x in enumerate(true) if x]\n",
    "newcolname_Infil=list( colNames[i] for i in newcolindex_Infil)\n",
    "newcolname_Infil"
   ]
  },
  {
   "cell_type": "markdown",
   "metadata": {},
   "source": [
    "# Summary of features selected by Univariate Feature Selection"
   ]
  },
  {
   "cell_type": "code",
   "execution_count": 52,
   "metadata": {},
   "outputs": [
    {
     "name": "stdout",
     "output_type": "stream",
     "text": [
      "Features selected for DoS: ['Bwd Packet Length Max', ' Bwd Packet Length Mean', ' Bwd Packet Length Std', ' Max Packet Length', ' Packet Length Mean', ' Packet Length Std', ' Average Packet Size', ' Avg Bwd Segment Size']\n",
      "\n",
      "Features selected for Probe: [' Bwd Packet Length Min', ' Bwd Packet Length Mean', ' Min Packet Length', ' Packet Length Mean', ' PSH Flag Count', ' ACK Flag Count', ' Average Packet Size', 'Init_Win_bytes_forward']\n",
      "\n",
      "Features selected for Web: [' Destination Port', ' Bwd Packet Length Min', ' Min Packet Length', ' PSH Flag Count', ' Down/Up Ratio', ' Average Packet Size', 'Init_Win_bytes_forward', ' Init_Win_bytes_backward']\n",
      "\n",
      "Features selected for Infil: [' Bwd Packet Length Min', 'Fwd PSH Flags', ' Min Packet Length', ' SYN Flag Count', ' PSH Flag Count', ' ACK Flag Count', ' Average Packet Size', 'Init_Win_bytes_forward']\n"
     ]
    }
   ],
   "source": [
    "print('Features selected for DoS:',newcolname_DoS)\n",
    "print()\n",
    "print('Features selected for Probe:',newcolname_Probe)\n",
    "print()\n",
    "print('Features selected for Web:',newcolname_Web)\n",
    "print()\n",
    "print('Features selected for Infil:',newcolname_Infil)"
   ]
  },
  {
   "cell_type": "markdown",
   "metadata": {},
   "source": [
    "## The authors state that \"After obtaining the adequate number of features during the univariate selection process, a recursive feature elimination (RFE) was operated with the number of features passed as parameter to identify the features selected\". This either implies that RFE is only used for obtaining the features previously selected but also obtaining the rank. This use of RFE is however very redundant as the features selected can be obtained in another way (Done in this project). One can also not say that the features were selected by RFE, as it was not used for this. The quote could however also imply that only the number 13 from univariate feature selection was used. RFE is then used for feature selection trying to find the best 13 features. With this use of RFE one can actually say that it was used for feature selection. However the authors obtained different numbers of features for every attack category, 12 for DoS, 15 for Probe, 13 for Web and 11 for Infil. This concludes that it is not clear what mechanism is used for feature selection. \n",
    "\n",
    "## To procede with the data mining, the second option is considered as this uses RFE. From now on the number of features for every attack category is 13."
   ]
  },
  {
   "cell_type": "markdown",
   "metadata": {},
   "source": [
    "# 2. Recursive Feature Elimination for feature ranking (Option 1: get importance from previous selected)"
   ]
  },
  {
   "cell_type": "code",
   "execution_count": 53,
   "metadata": {},
   "outputs": [
    {
     "name": "stdout",
     "output_type": "stream",
     "text": [
      "DoS Features sorted by their rank:\n",
      "[(1, ' Bwd Packet Length Std'), (2, ' Average Packet Size'), (3, ' Avg Bwd Segment Size'), (4, ' Max Packet Length'), (5, ' Packet Length Std'), (6, ' Bwd Packet Length Mean'), (7, ' Packet Length Mean'), (8, 'Bwd Packet Length Max')]\n"
     ]
    }
   ],
   "source": [
    "from sklearn.feature_selection import RFE\n",
    "from sklearn.tree import DecisionTreeClassifier\n",
    "# Create a decision tree classifier. By convention, clf means 'classifier'\n",
    "clf = DecisionTreeClassifier(random_state=0)\n",
    "\n",
    "#rank all features, i.e continue the elimination until the last one\n",
    "rfe = RFE(clf, n_features_to_select=1)\n",
    "rfe.fit(X_newDoS, Y_DoS)\n",
    "print (\"DoS Features sorted by their rank:\")\n",
    "print (sorted(zip(map(lambda x: round(x, 4), rfe.ranking_), newcolname_DoS)))"
   ]
  },
  {
   "cell_type": "code",
   "execution_count": 54,
   "metadata": {},
   "outputs": [
    {
     "name": "stdout",
     "output_type": "stream",
     "text": [
      "Probe Features sorted by their rank:\n",
      "[(1, ' Bwd Packet Length Mean'), (2, ' Packet Length Mean'), (3, ' PSH Flag Count'), (4, ' Average Packet Size'), (5, ' Min Packet Length'), (6, 'Init_Win_bytes_forward'), (7, ' ACK Flag Count'), (8, ' Bwd Packet Length Min')]\n"
     ]
    }
   ],
   "source": [
    "rfe.fit(X_newProbe, Y_Probe)\n",
    "print (\"Probe Features sorted by their rank:\")\n",
    "print (sorted(zip(map(lambda x: round(x, 4), rfe.ranking_), newcolname_Probe)))"
   ]
  },
  {
   "cell_type": "code",
   "execution_count": 55,
   "metadata": {},
   "outputs": [
    {
     "name": "stdout",
     "output_type": "stream",
     "text": [
      "Web Features sorted by their rank:\n",
      "[(1, ' Init_Win_bytes_backward'), (2, ' Average Packet Size'), (3, ' Destination Port'), (4, 'Init_Win_bytes_forward'), (5, ' Down/Up Ratio'), (6, ' Min Packet Length'), (7, ' PSH Flag Count'), (8, ' Bwd Packet Length Min')]\n"
     ]
    }
   ],
   "source": [
    "rfe.fit(X_newWeb, Y_Web)\n",
    " \n",
    "print (\"Web Features sorted by their rank:\")\n",
    "print (sorted(zip(map(lambda x: round(x, 4), rfe.ranking_), newcolname_Web)))"
   ]
  },
  {
   "cell_type": "code",
   "execution_count": 56,
   "metadata": {},
   "outputs": [
    {
     "name": "stdout",
     "output_type": "stream",
     "text": [
      "Infil Features sorted by their rank:\n",
      "[(1, ' Average Packet Size'), (2, 'Init_Win_bytes_forward'), (3, ' ACK Flag Count'), (4, ' Min Packet Length'), (5, ' Bwd Packet Length Min'), (6, ' PSH Flag Count'), (7, 'Fwd PSH Flags'), (8, ' SYN Flag Count')]\n"
     ]
    }
   ],
   "source": [
    "rfe.fit(X_newInfil, Y_Infil)\n",
    " \n",
    "print (\"Infil Features sorted by their rank:\")\n",
    "print (sorted(zip(map(lambda x: round(x, 4), rfe.ranking_), newcolname_Infil)))"
   ]
  },
  {
   "cell_type": "markdown",
   "metadata": {},
   "source": [
    "# 2. Recursive Feature Elimination, select 13 features each of 78 (Option 2: get 13 best features from 78 from RFE)"
   ]
  },
  {
   "cell_type": "code",
   "execution_count": 57,
   "metadata": {},
   "outputs": [],
   "source": [
    "from sklearn.feature_selection import RFE\n",
    "clf = DecisionTreeClassifier(random_state=0)\n",
    "rfe = RFE(estimator=clf, n_features_to_select=13, step=1)\n",
    "rfe.fit(X_DoS, Y_DoS)\n",
    "X_rfeDoS=rfe.transform(X_DoS)\n",
    "true=rfe.support_\n",
    "rfecolindex_DoS=[i for i, x in enumerate(true) if x]\n",
    "rfecolname_DoS=list(colNames[i] for i in rfecolindex_DoS)"
   ]
  },
  {
   "cell_type": "code",
   "execution_count": 58,
   "metadata": {},
   "outputs": [],
   "source": [
    "rfe.fit(X_Probe, Y_Probe)\n",
    "X_rfeProbe=rfe.transform(X_Probe)\n",
    "true=rfe.support_\n",
    "rfecolindex_Probe=[i for i, x in enumerate(true) if x]\n",
    "rfecolname_Probe=list(colNames[i] for i in rfecolindex_Probe)"
   ]
  },
  {
   "cell_type": "code",
   "execution_count": 59,
   "metadata": {},
   "outputs": [],
   "source": [
    "rfe.fit(X_Web, Y_Web)\n",
    "X_rfeWeb=rfe.transform(X_Web)\n",
    "true=rfe.support_\n",
    "rfecolindex_Web=[i for i, x in enumerate(true) if x]\n",
    "rfecolname_Web=list(colNames[i] for i in rfecolindex_Web)"
   ]
  },
  {
   "cell_type": "code",
   "execution_count": 60,
   "metadata": {},
   "outputs": [],
   "source": [
    "rfe.fit(X_Infil, Y_Infil)\n",
    "X_rfeInfil=rfe.transform(X_Infil)\n",
    "true=rfe.support_\n",
    "rfecolindex_Infil=[i for i, x in enumerate(true) if x]\n",
    "rfecolname_Infil=list(colNames[i] for i in rfecolindex_Infil)"
   ]
  },
  {
   "cell_type": "markdown",
   "metadata": {},
   "source": [
    "# Summary of features selected by RFE"
   ]
  },
  {
   "cell_type": "code",
   "execution_count": 61,
   "metadata": {},
   "outputs": [
    {
     "name": "stdout",
     "output_type": "stream",
     "text": [
      "Features selected for DoS: [' Destination Port', ' Total Length of Bwd Packets', ' Bwd Packet Length Std', ' Flow IAT Min', ' Fwd IAT Max', ' Fwd Header Length', ' Packet Length Mean', 'FIN Flag Count', ' Subflow Bwd Packets', 'Init_Win_bytes_forward', ' Init_Win_bytes_backward', ' Active Std', ' Idle Max']\n",
      "\n",
      "Features selected for Probe: [' Destination Port', ' Total Fwd Packets', 'Total Length of Fwd Packets', 'Flow Bytes/s', ' Flow Packets/s', ' Flow IAT Mean', ' Flow IAT Max', ' Flow IAT Min', ' Bwd Packets/s', ' PSH Flag Count', ' Fwd Header Length.1', 'Init_Win_bytes_forward', ' Idle Min']\n",
      "\n",
      "Features selected for Web: [' Destination Port', ' Flow Duration', 'Total Length of Fwd Packets', ' Fwd Packet Length Max', ' Fwd IAT Min', ' Bwd IAT Max', ' Bwd IAT Min', ' Bwd Packets/s', ' Avg Fwd Segment Size', ' Fwd Header Length.1', 'Init_Win_bytes_forward', ' Init_Win_bytes_backward', ' min_seg_size_forward']\n",
      "\n",
      "Features selected for Infil: [' Destination Port', 'Total Length of Fwd Packets', ' Flow IAT Min', ' Fwd IAT Min', 'Fwd PSH Flags', ' Bwd Packets/s', ' Down/Up Ratio', ' Avg Bwd Segment Size', ' Subflow Fwd Bytes', 'Init_Win_bytes_forward', ' Init_Win_bytes_backward', ' min_seg_size_forward', ' Active Min']\n"
     ]
    }
   ],
   "source": [
    "print('Features selected for DoS:',rfecolname_DoS)\n",
    "print()\n",
    "print('Features selected for Probe:',rfecolname_Probe)\n",
    "print()\n",
    "print('Features selected for Web:',rfecolname_Web)\n",
    "print()\n",
    "print('Features selected for Infil:',rfecolname_Infil)"
   ]
  },
  {
   "cell_type": "code",
   "execution_count": 62,
   "metadata": {},
   "outputs": [
    {
     "name": "stdout",
     "output_type": "stream",
     "text": [
      "(892609, 13)\n",
      "(725325, 13)\n",
      "(607781, 13)\n",
      "(616534, 13)\n"
     ]
    }
   ],
   "source": [
    "print(X_rfeDoS.shape)\n",
    "print(X_rfeProbe.shape)\n",
    "print(X_rfeWeb.shape)\n",
    "print(X_rfeInfil.shape)"
   ]
  },
  {
   "cell_type": "markdown",
   "metadata": {},
   "source": [
    "# Step 4: Build the model:\n",
    "### Classifier is trained for all features and for reduced features, for later comparison.\n",
    "#### The classifier model itself is stored in the clf variable."
   ]
  },
  {
   "cell_type": "code",
   "execution_count": 63,
   "metadata": {},
   "outputs": [
    {
     "data": {
      "text/plain": [
       "DecisionTreeClassifier(random_state=0)"
      ]
     },
     "execution_count": 63,
     "metadata": {},
     "output_type": "execute_result"
    }
   ],
   "source": [
    "# all features\n",
    "clf_DoS=DecisionTreeClassifier(random_state=0)\n",
    "clf_Probe=DecisionTreeClassifier(random_state=0)\n",
    "clf_Web=DecisionTreeClassifier(random_state=0)\n",
    "clf_Infil=DecisionTreeClassifier(random_state=0)\n",
    "clf_DoS.fit(X_DoS, Y_DoS)\n",
    "clf_Probe.fit(X_Probe, Y_Probe)\n",
    "clf_Web.fit(X_Web, Y_Web)\n",
    "clf_Infil.fit(X_Infil, Y_Infil)"
   ]
  },
  {
   "cell_type": "code",
   "execution_count": 64,
   "metadata": {},
   "outputs": [
    {
     "data": {
      "text/plain": [
       "DecisionTreeClassifier(random_state=0)"
      ]
     },
     "execution_count": 64,
     "metadata": {},
     "output_type": "execute_result"
    }
   ],
   "source": [
    "# selected features\n",
    "clf_rfeDoS=DecisionTreeClassifier(random_state=0)\n",
    "clf_rfeProbe=DecisionTreeClassifier(random_state=0)\n",
    "clf_rfeWeb=DecisionTreeClassifier(random_state=0)\n",
    "clf_rfeInfil=DecisionTreeClassifier(random_state=0)\n",
    "clf_rfeDoS.fit(X_rfeDoS, Y_DoS)\n",
    "clf_rfeProbe.fit(X_rfeProbe, Y_Probe)\n",
    "clf_rfeWeb.fit(X_rfeWeb, Y_Web)\n",
    "clf_rfeInfil.fit(X_rfeInfil, Y_Infil)"
   ]
  },
  {
   "cell_type": "markdown",
   "metadata": {},
   "source": [
    "# Step 5: Prediction & Evaluation (validation):"
   ]
  },
  {
   "cell_type": "markdown",
   "metadata": {},
   "source": [
    "# Using all Features for each category"
   ]
  },
  {
   "cell_type": "markdown",
   "metadata": {},
   "source": [
    "# Confusion Matrices\n",
    "## DoS"
   ]
  },
  {
   "cell_type": "code",
   "execution_count": 65,
   "metadata": {},
   "outputs": [
    {
     "data": {
      "text/plain": [
       "array([0, 0, 0, ..., 1, 0, 1])"
      ]
     },
     "execution_count": 65,
     "metadata": {},
     "output_type": "execute_result"
    }
   ],
   "source": [
    "# Apply the classifier we trained to the test data (which it has never seen before)\n",
    "clf_DoS.predict(X_DoS_test)"
   ]
  },
  {
   "cell_type": "code",
   "execution_count": 66,
   "metadata": {},
   "outputs": [
    {
     "data": {
      "text/plain": [
       "array([[1., 0.],\n",
       "       [1., 0.],\n",
       "       [1., 0.],\n",
       "       [1., 0.],\n",
       "       [0., 1.],\n",
       "       [1., 0.],\n",
       "       [1., 0.],\n",
       "       [1., 0.],\n",
       "       [1., 0.],\n",
       "       [1., 0.]])"
      ]
     },
     "execution_count": 66,
     "metadata": {},
     "output_type": "execute_result"
    }
   ],
   "source": [
    "# View the predicted probabilities of the first 10 observations\n",
    "clf_DoS.predict_proba(X_DoS_test)[0:10]"
   ]
  },
  {
   "cell_type": "code",
   "execution_count": 67,
   "metadata": {},
   "outputs": [
    {
     "data": {
      "text/html": [
       "<div>\n",
       "<style scoped>\n",
       "    .dataframe tbody tr th:only-of-type {\n",
       "        vertical-align: middle;\n",
       "    }\n",
       "\n",
       "    .dataframe tbody tr th {\n",
       "        vertical-align: top;\n",
       "    }\n",
       "\n",
       "    .dataframe thead th {\n",
       "        text-align: right;\n",
       "    }\n",
       "</style>\n",
       "<table border=\"1\" class=\"dataframe\">\n",
       "  <thead>\n",
       "    <tr style=\"text-align: right;\">\n",
       "      <th>Predicted attacks</th>\n",
       "      <th>0</th>\n",
       "      <th>1</th>\n",
       "    </tr>\n",
       "    <tr>\n",
       "      <th>Actual attacks</th>\n",
       "      <th></th>\n",
       "      <th></th>\n",
       "    </tr>\n",
       "  </thead>\n",
       "  <tbody>\n",
       "    <tr>\n",
       "      <th>0</th>\n",
       "      <td>405079</td>\n",
       "      <td>30609</td>\n",
       "    </tr>\n",
       "    <tr>\n",
       "      <th>1</th>\n",
       "      <td>65910</td>\n",
       "      <td>29325</td>\n",
       "    </tr>\n",
       "  </tbody>\n",
       "</table>\n",
       "</div>"
      ],
      "text/plain": [
       "Predicted attacks       0      1\n",
       "Actual attacks                  \n",
       "0                  405079  30609\n",
       "1                   65910  29325"
      ]
     },
     "execution_count": 67,
     "metadata": {},
     "output_type": "execute_result"
    }
   ],
   "source": [
    "Y_DoS_pred=clf_DoS.predict(X_DoS_test)\n",
    "# Create confusion matrix\n",
    "pd.crosstab(Y_DoS_test, Y_DoS_pred, rownames=['Actual attacks'], colnames=['Predicted attacks'])"
   ]
  },
  {
   "cell_type": "markdown",
   "metadata": {},
   "source": [
    "## Probe"
   ]
  },
  {
   "cell_type": "code",
   "execution_count": 68,
   "metadata": {},
   "outputs": [
    {
     "data": {
      "text/html": [
       "<div>\n",
       "<style scoped>\n",
       "    .dataframe tbody tr th:only-of-type {\n",
       "        vertical-align: middle;\n",
       "    }\n",
       "\n",
       "    .dataframe tbody tr th {\n",
       "        vertical-align: top;\n",
       "    }\n",
       "\n",
       "    .dataframe thead th {\n",
       "        text-align: right;\n",
       "    }\n",
       "</style>\n",
       "<table border=\"1\" class=\"dataframe\">\n",
       "  <thead>\n",
       "    <tr style=\"text-align: right;\">\n",
       "      <th>Predicted attacks</th>\n",
       "      <th>0</th>\n",
       "      <th>2</th>\n",
       "    </tr>\n",
       "    <tr>\n",
       "      <th>Actual attacks</th>\n",
       "      <th></th>\n",
       "      <th></th>\n",
       "    </tr>\n",
       "  </thead>\n",
       "  <tbody>\n",
       "    <tr>\n",
       "      <th>0</th>\n",
       "      <td>433505</td>\n",
       "      <td>2183</td>\n",
       "    </tr>\n",
       "    <tr>\n",
       "      <th>2</th>\n",
       "      <td>39620</td>\n",
       "      <td>10</td>\n",
       "    </tr>\n",
       "  </tbody>\n",
       "</table>\n",
       "</div>"
      ],
      "text/plain": [
       "Predicted attacks       0     2\n",
       "Actual attacks                 \n",
       "0                  433505  2183\n",
       "2                   39620    10"
      ]
     },
     "execution_count": 68,
     "metadata": {},
     "output_type": "execute_result"
    }
   ],
   "source": [
    "Y_Probe_pred=clf_Probe.predict(X_Probe_test)\n",
    "# Create confusion matrix\n",
    "pd.crosstab(Y_Probe_test, Y_Probe_pred, rownames=['Actual attacks'], colnames=['Predicted attacks'])"
   ]
  },
  {
   "cell_type": "markdown",
   "metadata": {},
   "source": [
    "## Web"
   ]
  },
  {
   "cell_type": "code",
   "execution_count": 69,
   "metadata": {},
   "outputs": [
    {
     "data": {
      "text/html": [
       "<div>\n",
       "<style scoped>\n",
       "    .dataframe tbody tr th:only-of-type {\n",
       "        vertical-align: middle;\n",
       "    }\n",
       "\n",
       "    .dataframe tbody tr th {\n",
       "        vertical-align: top;\n",
       "    }\n",
       "\n",
       "    .dataframe thead th {\n",
       "        text-align: right;\n",
       "    }\n",
       "</style>\n",
       "<table border=\"1\" class=\"dataframe\">\n",
       "  <thead>\n",
       "    <tr style=\"text-align: right;\">\n",
       "      <th>Predicted attacks</th>\n",
       "      <th>0</th>\n",
       "      <th>3</th>\n",
       "    </tr>\n",
       "    <tr>\n",
       "      <th>Actual attacks</th>\n",
       "      <th></th>\n",
       "      <th></th>\n",
       "    </tr>\n",
       "  </thead>\n",
       "  <tbody>\n",
       "    <tr>\n",
       "      <th>0</th>\n",
       "      <td>435681</td>\n",
       "      <td>7</td>\n",
       "    </tr>\n",
       "    <tr>\n",
       "      <th>3</th>\n",
       "      <td>550</td>\n",
       "      <td>0</td>\n",
       "    </tr>\n",
       "  </tbody>\n",
       "</table>\n",
       "</div>"
      ],
      "text/plain": [
       "Predicted attacks       0  3\n",
       "Actual attacks              \n",
       "0                  435681  7\n",
       "3                     550  0"
      ]
     },
     "execution_count": 69,
     "metadata": {},
     "output_type": "execute_result"
    }
   ],
   "source": [
    "Y_Web_pred=clf_Web.predict(X_Web_test)\n",
    "# Create confusion matrix\n",
    "pd.crosstab(Y_Web_test, Y_Web_pred, rownames=['Actual attacks'], colnames=['Predicted attacks'])"
   ]
  },
  {
   "cell_type": "markdown",
   "metadata": {},
   "source": [
    "## Infil"
   ]
  },
  {
   "cell_type": "code",
   "execution_count": 70,
   "metadata": {},
   "outputs": [
    {
     "data": {
      "text/html": [
       "<div>\n",
       "<style scoped>\n",
       "    .dataframe tbody tr th:only-of-type {\n",
       "        vertical-align: middle;\n",
       "    }\n",
       "\n",
       "    .dataframe tbody tr th {\n",
       "        vertical-align: top;\n",
       "    }\n",
       "\n",
       "    .dataframe thead th {\n",
       "        text-align: right;\n",
       "    }\n",
       "</style>\n",
       "<table border=\"1\" class=\"dataframe\">\n",
       "  <thead>\n",
       "    <tr style=\"text-align: right;\">\n",
       "      <th>Predicted attacks</th>\n",
       "      <th>0</th>\n",
       "      <th>4</th>\n",
       "    </tr>\n",
       "    <tr>\n",
       "      <th>Actual attacks</th>\n",
       "      <th></th>\n",
       "      <th></th>\n",
       "    </tr>\n",
       "  </thead>\n",
       "  <tbody>\n",
       "    <tr>\n",
       "      <th>0</th>\n",
       "      <td>435577</td>\n",
       "      <td>111</td>\n",
       "    </tr>\n",
       "    <tr>\n",
       "      <th>4</th>\n",
       "      <td>3490</td>\n",
       "      <td>6</td>\n",
       "    </tr>\n",
       "  </tbody>\n",
       "</table>\n",
       "</div>"
      ],
      "text/plain": [
       "Predicted attacks       0    4\n",
       "Actual attacks                \n",
       "0                  435577  111\n",
       "4                    3490    6"
      ]
     },
     "execution_count": 70,
     "metadata": {},
     "output_type": "execute_result"
    }
   ],
   "source": [
    "Y_Infil_pred=clf_Infil.predict(X_Infil_test)\n",
    "# Create confusion matrix\n",
    "pd.crosstab(Y_Infil_test, Y_Infil_pred, rownames=['Actual attacks'], colnames=['Predicted attacks'])"
   ]
  },
  {
   "cell_type": "markdown",
   "metadata": {},
   "source": [
    "# Accuracy, Precision, Recall, F-measure"
   ]
  },
  {
   "cell_type": "markdown",
   "metadata": {},
   "source": [
    "TP = True Positive, TN = True Negative, FP = False Positive, FN = False Negative\n",
    "\n",
    "accuracy = (TP + TN) / (TP + TN + FP + FN)\n",
    "\n",
    "precision = TP / (FP + TP)\n",
    "\n",
    "recall = TP / (TP + FN)\n",
    "\n",
    "f = (2 * precision * recall) / (precision + recall)"
   ]
  },
  {
   "cell_type": "markdown",
   "metadata": {},
   "source": [
    "## DoS"
   ]
  },
  {
   "cell_type": "code",
   "execution_count": 71,
   "metadata": {},
   "outputs": [
    {
     "name": "stdout",
     "output_type": "stream",
     "text": [
      "Accuracy: 0.81821\n",
      "Precision: 0.48929\n",
      "Recall: 0.30792\n",
      "F-measure: 0.37797\n"
     ]
    }
   ],
   "source": [
    "from sklearn import metrics\n",
    "accuracy = metrics.accuracy_score(Y_DoS_test,Y_DoS_pred)\n",
    "print(\"Accuracy: %0.5f\" % accuracy)\n",
    "precision = metrics.precision_score(Y_DoS_test,Y_DoS_pred)\n",
    "print(\"Precision: %0.5f\" % precision)\n",
    "recall = metrics.recall_score(Y_DoS_test,Y_DoS_pred)\n",
    "print(\"Recall: %0.5f\" % recall)\n",
    "f = metrics.f1_score(Y_DoS_test,Y_DoS_pred)\n",
    "print(\"F-measure: %0.5f\" % f)"
   ]
  },
  {
   "cell_type": "markdown",
   "metadata": {},
   "source": [
    "# Probe"
   ]
  },
  {
   "cell_type": "code",
   "execution_count": 72,
   "metadata": {},
   "outputs": [
    {
     "name": "stdout",
     "output_type": "stream",
     "text": [
      "Accuracy: 0.91205\n",
      "Precision: 0.00456\n",
      "Recall: 0.00025\n",
      "F-measure: 0.00048\n"
     ]
    }
   ],
   "source": [
    "accuracy = metrics.accuracy_score(Y_Probe_test/2,Y_Probe_pred/2)\n",
    "print(\"Accuracy: %0.5f\" % accuracy)\n",
    "precision = metrics.precision_score(Y_Probe_test/2,Y_Probe_pred/2)\n",
    "print(\"Precision: %0.5f\" % precision)\n",
    "recall = metrics.recall_score(Y_Probe_test/2,Y_Probe_pred/2)\n",
    "print(\"Recall: %0.5f\" % recall)\n",
    "f = metrics.f1_score(Y_Probe_test/2,Y_Probe_pred/2)\n",
    "print(\"F-measure: %0.5f\" % f)"
   ]
  },
  {
   "cell_type": "markdown",
   "metadata": {},
   "source": [
    "## Web"
   ]
  },
  {
   "cell_type": "code",
   "execution_count": 73,
   "metadata": {},
   "outputs": [
    {
     "name": "stdout",
     "output_type": "stream",
     "text": [
      "Accuracy: 0.99872\n",
      "Precision: 0.00000\n",
      "Recall: 0.00000\n",
      "F-measure: 0.00000\n"
     ]
    }
   ],
   "source": [
    "accuracy = metrics.accuracy_score(Y_Web_test/3,Y_Web_pred/3)\n",
    "print(\"Accuracy: %0.5f\" % accuracy)\n",
    "precision = metrics.precision_score(Y_Web_test/3,Y_Web_pred/3)\n",
    "print(\"Precision: %0.5f\" % precision)\n",
    "recall = metrics.recall_score(Y_Web_test/3,Y_Web_pred/3)\n",
    "print(\"Recall: %0.5f\" % recall)\n",
    "f = metrics.f1_score(Y_Web_test/3,Y_Web_pred/3)\n",
    "print(\"F-measure: %0.5f\" % f)"
   ]
  },
  {
   "cell_type": "markdown",
   "metadata": {},
   "source": [
    "## Infil"
   ]
  },
  {
   "cell_type": "code",
   "execution_count": 74,
   "metadata": {},
   "outputs": [
    {
     "name": "stdout",
     "output_type": "stream",
     "text": [
      "Accuracy: 0.99180\n",
      "Precision: 0.05128\n",
      "Recall: 0.00172\n",
      "F-measure: 0.00332\n"
     ]
    }
   ],
   "source": [
    "accuracy = metrics.accuracy_score(Y_Infil_test/4,Y_Infil_pred/4)\n",
    "print(\"Accuracy: %0.5f\" % accuracy)\n",
    "precision = metrics.precision_score(Y_Infil_test/4,Y_Infil_pred/4)\n",
    "print(\"Precision: %0.5f\" % precision)\n",
    "recall = metrics.recall_score(Y_Infil_test/4,Y_Infil_pred/4)\n",
    "print(\"Recall: %0.5f\" % recall)\n",
    "f = metrics.f1_score(Y_Infil_test/4,Y_Infil_pred/4)\n",
    "print(\"F-measure: %0.5f\" % f)"
   ]
  },
  {
   "cell_type": "markdown",
   "metadata": {},
   "source": [
    "# Using 13 Features for each category"
   ]
  },
  {
   "cell_type": "markdown",
   "metadata": {},
   "source": [
    "# Confusion Matrices\n",
    "## DoS"
   ]
  },
  {
   "cell_type": "code",
   "execution_count": 75,
   "metadata": {},
   "outputs": [
    {
     "data": {
      "text/plain": [
       "(439184, 13)"
      ]
     },
     "execution_count": 75,
     "metadata": {},
     "output_type": "execute_result"
    }
   ],
   "source": [
    "# reduce test dataset to 13 features, use only features described in rfecolname_DoS etc.\n",
    "X_DoS_test2=X_DoS_test[:,rfecolindex_DoS]\n",
    "X_Probe_test2=X_Probe_test[:,rfecolindex_Probe]\n",
    "X_Web_test2=X_Web_test[:,rfecolindex_Web]\n",
    "X_Infil_test2=X_Infil_test[:,rfecolindex_Infil]\n",
    "X_Infil_test2.shape"
   ]
  },
  {
   "cell_type": "code",
   "execution_count": 76,
   "metadata": {},
   "outputs": [
    {
     "data": {
      "text/html": [
       "<div>\n",
       "<style scoped>\n",
       "    .dataframe tbody tr th:only-of-type {\n",
       "        vertical-align: middle;\n",
       "    }\n",
       "\n",
       "    .dataframe tbody tr th {\n",
       "        vertical-align: top;\n",
       "    }\n",
       "\n",
       "    .dataframe thead th {\n",
       "        text-align: right;\n",
       "    }\n",
       "</style>\n",
       "<table border=\"1\" class=\"dataframe\">\n",
       "  <thead>\n",
       "    <tr style=\"text-align: right;\">\n",
       "      <th>Predicted attacks</th>\n",
       "      <th>0</th>\n",
       "      <th>1</th>\n",
       "    </tr>\n",
       "    <tr>\n",
       "      <th>Actual attacks</th>\n",
       "      <th></th>\n",
       "      <th></th>\n",
       "    </tr>\n",
       "  </thead>\n",
       "  <tbody>\n",
       "    <tr>\n",
       "      <th>0</th>\n",
       "      <td>405894</td>\n",
       "      <td>29794</td>\n",
       "    </tr>\n",
       "    <tr>\n",
       "      <th>1</th>\n",
       "      <td>66640</td>\n",
       "      <td>28595</td>\n",
       "    </tr>\n",
       "  </tbody>\n",
       "</table>\n",
       "</div>"
      ],
      "text/plain": [
       "Predicted attacks       0      1\n",
       "Actual attacks                  \n",
       "0                  405894  29794\n",
       "1                   66640  28595"
      ]
     },
     "execution_count": 76,
     "metadata": {},
     "output_type": "execute_result"
    }
   ],
   "source": [
    "Y_DoS_pred2=clf_rfeDoS.predict(X_DoS_test2)\n",
    "# Create confusion matrix\n",
    "pd.crosstab(Y_DoS_test, Y_DoS_pred2, rownames=['Actual attacks'], colnames=['Predicted attacks'])"
   ]
  },
  {
   "cell_type": "markdown",
   "metadata": {},
   "source": [
    "## Probe"
   ]
  },
  {
   "cell_type": "code",
   "execution_count": 77,
   "metadata": {},
   "outputs": [
    {
     "data": {
      "text/html": [
       "<div>\n",
       "<style scoped>\n",
       "    .dataframe tbody tr th:only-of-type {\n",
       "        vertical-align: middle;\n",
       "    }\n",
       "\n",
       "    .dataframe tbody tr th {\n",
       "        vertical-align: top;\n",
       "    }\n",
       "\n",
       "    .dataframe thead th {\n",
       "        text-align: right;\n",
       "    }\n",
       "</style>\n",
       "<table border=\"1\" class=\"dataframe\">\n",
       "  <thead>\n",
       "    <tr style=\"text-align: right;\">\n",
       "      <th>Predicted attacks</th>\n",
       "      <th>0</th>\n",
       "      <th>2</th>\n",
       "    </tr>\n",
       "    <tr>\n",
       "      <th>Actual attacks</th>\n",
       "      <th></th>\n",
       "      <th></th>\n",
       "    </tr>\n",
       "  </thead>\n",
       "  <tbody>\n",
       "    <tr>\n",
       "      <th>0</th>\n",
       "      <td>331255</td>\n",
       "      <td>104433</td>\n",
       "    </tr>\n",
       "    <tr>\n",
       "      <th>2</th>\n",
       "      <td>39549</td>\n",
       "      <td>81</td>\n",
       "    </tr>\n",
       "  </tbody>\n",
       "</table>\n",
       "</div>"
      ],
      "text/plain": [
       "Predicted attacks       0       2\n",
       "Actual attacks                   \n",
       "0                  331255  104433\n",
       "2                   39549      81"
      ]
     },
     "execution_count": 77,
     "metadata": {},
     "output_type": "execute_result"
    }
   ],
   "source": [
    "Y_Probe_pred2=clf_rfeProbe.predict(X_Probe_test2)\n",
    "# Create confusion matrix\n",
    "pd.crosstab(Y_Probe_test, Y_Probe_pred2, rownames=['Actual attacks'], colnames=['Predicted attacks'])"
   ]
  },
  {
   "cell_type": "markdown",
   "metadata": {},
   "source": [
    "## Web"
   ]
  },
  {
   "cell_type": "code",
   "execution_count": 78,
   "metadata": {},
   "outputs": [
    {
     "data": {
      "text/html": [
       "<div>\n",
       "<style scoped>\n",
       "    .dataframe tbody tr th:only-of-type {\n",
       "        vertical-align: middle;\n",
       "    }\n",
       "\n",
       "    .dataframe tbody tr th {\n",
       "        vertical-align: top;\n",
       "    }\n",
       "\n",
       "    .dataframe thead th {\n",
       "        text-align: right;\n",
       "    }\n",
       "</style>\n",
       "<table border=\"1\" class=\"dataframe\">\n",
       "  <thead>\n",
       "    <tr style=\"text-align: right;\">\n",
       "      <th>Predicted attacks</th>\n",
       "      <th>0</th>\n",
       "      <th>3</th>\n",
       "    </tr>\n",
       "    <tr>\n",
       "      <th>Actual attacks</th>\n",
       "      <th></th>\n",
       "      <th></th>\n",
       "    </tr>\n",
       "  </thead>\n",
       "  <tbody>\n",
       "    <tr>\n",
       "      <th>0</th>\n",
       "      <td>435681</td>\n",
       "      <td>7</td>\n",
       "    </tr>\n",
       "    <tr>\n",
       "      <th>3</th>\n",
       "      <td>550</td>\n",
       "      <td>0</td>\n",
       "    </tr>\n",
       "  </tbody>\n",
       "</table>\n",
       "</div>"
      ],
      "text/plain": [
       "Predicted attacks       0  3\n",
       "Actual attacks              \n",
       "0                  435681  7\n",
       "3                     550  0"
      ]
     },
     "execution_count": 78,
     "metadata": {},
     "output_type": "execute_result"
    }
   ],
   "source": [
    "Y_Web_pred2=clf_rfeWeb.predict(X_Web_test2)\n",
    "# Create confusion matrix\n",
    "pd.crosstab(Y_Web_test, Y_Web_pred2, rownames=['Actual attacks'], colnames=['Predicted attacks'])"
   ]
  },
  {
   "cell_type": "markdown",
   "metadata": {},
   "source": [
    "## Infil"
   ]
  },
  {
   "cell_type": "code",
   "execution_count": 79,
   "metadata": {},
   "outputs": [
    {
     "data": {
      "text/html": [
       "<div>\n",
       "<style scoped>\n",
       "    .dataframe tbody tr th:only-of-type {\n",
       "        vertical-align: middle;\n",
       "    }\n",
       "\n",
       "    .dataframe tbody tr th {\n",
       "        vertical-align: top;\n",
       "    }\n",
       "\n",
       "    .dataframe thead th {\n",
       "        text-align: right;\n",
       "    }\n",
       "</style>\n",
       "<table border=\"1\" class=\"dataframe\">\n",
       "  <thead>\n",
       "    <tr style=\"text-align: right;\">\n",
       "      <th>Predicted attacks</th>\n",
       "      <th>0</th>\n",
       "      <th>4</th>\n",
       "    </tr>\n",
       "    <tr>\n",
       "      <th>Actual attacks</th>\n",
       "      <th></th>\n",
       "      <th></th>\n",
       "    </tr>\n",
       "  </thead>\n",
       "  <tbody>\n",
       "    <tr>\n",
       "      <th>0</th>\n",
       "      <td>435567</td>\n",
       "      <td>121</td>\n",
       "    </tr>\n",
       "    <tr>\n",
       "      <th>4</th>\n",
       "      <td>3451</td>\n",
       "      <td>45</td>\n",
       "    </tr>\n",
       "  </tbody>\n",
       "</table>\n",
       "</div>"
      ],
      "text/plain": [
       "Predicted attacks       0    4\n",
       "Actual attacks                \n",
       "0                  435567  121\n",
       "4                    3451   45"
      ]
     },
     "execution_count": 79,
     "metadata": {},
     "output_type": "execute_result"
    }
   ],
   "source": [
    "Y_Infil_pred2=clf_rfeInfil.predict(X_Infil_test2)\n",
    "# Create confusion matrix\n",
    "pd.crosstab(Y_Infil_test, Y_Infil_pred2, rownames=['Actual attacks'], colnames=['Predicted attacks'])"
   ]
  },
  {
   "cell_type": "markdown",
   "metadata": {},
   "source": [
    "# Accuracy, Precision, Recall, F-measure"
   ]
  },
  {
   "cell_type": "markdown",
   "metadata": {},
   "source": [
    "TP = True Positive, TN = True Negative, FP = False Positive, FN = False Negative\n",
    "\n",
    "accuracy = (TP + TN) / (TP + TN + FP + FN)\n",
    "\n",
    "precision = TP / (FP + TP)\n",
    "\n",
    "recall = TP / (TP + FN)\n",
    "\n",
    "f = (2 * precision * recall) / (precision + recall)"
   ]
  },
  {
   "cell_type": "markdown",
   "metadata": {},
   "source": [
    "## DoS"
   ]
  },
  {
   "cell_type": "code",
   "execution_count": 80,
   "metadata": {},
   "outputs": [
    {
     "name": "stdout",
     "output_type": "stream",
     "text": [
      "Accuracy: 0.81837\n",
      "Precision: 0.48973\n",
      "Recall: 0.30026\n",
      "F-measure: 0.37227\n"
     ]
    }
   ],
   "source": [
    "from sklearn import metrics\n",
    "accuracy = metrics.accuracy_score(Y_DoS_test,Y_DoS_pred2)\n",
    "print(\"Accuracy: %0.5f\" % accuracy)\n",
    "precision = metrics.precision_score(Y_DoS_test,Y_DoS_pred2)\n",
    "print(\"Precision: %0.5f\" % precision)\n",
    "recall = metrics.recall_score(Y_DoS_test,Y_DoS_pred2)\n",
    "print(\"Recall: %0.5f\" % recall)\n",
    "f = metrics.f1_score(Y_DoS_test,Y_DoS_pred2)\n",
    "print(\"F-measure: %0.5f\" % f)"
   ]
  },
  {
   "cell_type": "markdown",
   "metadata": {},
   "source": [
    "# Probe"
   ]
  },
  {
   "cell_type": "code",
   "execution_count": 81,
   "metadata": {},
   "outputs": [
    {
     "name": "stdout",
     "output_type": "stream",
     "text": [
      "Accuracy: 0.69708\n",
      "Precision: 0.00078\n",
      "Recall: 0.00204\n",
      "F-measure: 0.00112\n"
     ]
    }
   ],
   "source": [
    "accuracy = metrics.accuracy_score(Y_Probe_test/2,Y_Probe_pred2/2)\n",
    "print(\"Accuracy: %0.5f\" % accuracy)\n",
    "precision = metrics.precision_score(Y_Probe_test/2,Y_Probe_pred2/2)\n",
    "print(\"Precision: %0.5f\" % precision)\n",
    "recall = metrics.recall_score(Y_Probe_test/2,Y_Probe_pred2/2)\n",
    "print(\"Recall: %0.5f\" % recall)\n",
    "f = metrics.f1_score(Y_Probe_test/2,Y_Probe_pred2/2)\n",
    "print(\"F-measure: %0.5f\" % f)"
   ]
  },
  {
   "cell_type": "markdown",
   "metadata": {},
   "source": [
    "## Web"
   ]
  },
  {
   "cell_type": "code",
   "execution_count": 82,
   "metadata": {},
   "outputs": [
    {
     "name": "stdout",
     "output_type": "stream",
     "text": [
      "Accuracy: 0.99872\n",
      "Precision: 0.00000\n",
      "Recall: 0.00000\n",
      "F-measure: 0.00000\n"
     ]
    }
   ],
   "source": [
    "accuracy = metrics.accuracy_score(Y_Web_test/3,Y_Web_pred2/3)\n",
    "print(\"Accuracy: %0.5f\" % accuracy)\n",
    "precision = metrics.precision_score(Y_Web_test/3,Y_Web_pred2/3)\n",
    "print(\"Precision: %0.5f\" % precision)\n",
    "recall = metrics.recall_score(Y_Web_test/3,Y_Web_pred2/3)\n",
    "print(\"Recall: %0.5f\" % recall)\n",
    "f = metrics.f1_score(Y_Web_test/3,Y_Web_pred2/3)\n",
    "print(\"F-measure: %0.5f\" % f)"
   ]
  },
  {
   "cell_type": "markdown",
   "metadata": {},
   "source": [
    "## Infil"
   ]
  },
  {
   "cell_type": "code",
   "execution_count": 83,
   "metadata": {},
   "outputs": [
    {
     "name": "stdout",
     "output_type": "stream",
     "text": [
      "Accuracy: 0.99187\n",
      "Precision: 0.27108\n",
      "Recall: 0.01287\n",
      "F-measure: 0.02458\n"
     ]
    }
   ],
   "source": [
    "accuracy = metrics.accuracy_score(Y_Infil_test/4,Y_Infil_pred2/4)\n",
    "print(\"Accuracy: %0.5f\" % accuracy)\n",
    "precision = metrics.precision_score(Y_Infil_test/4,Y_Infil_pred2/4)\n",
    "print(\"Precision: %0.5f\" % precision)\n",
    "recall = metrics.recall_score(Y_Infil_test/4,Y_Infil_pred2/4)\n",
    "print(\"Recall: %0.5f\" % recall)\n",
    "f = metrics.f1_score(Y_Infil_test/4,Y_Infil_pred2/4)\n",
    "print(\"F-measure: %0.5f\" % f)"
   ]
  }
 ],
 "metadata": {
  "kernelspec": {
   "display_name": "Python 3",
   "language": "python",
   "name": "python3"
  },
  "language_info": {
   "codemirror_mode": {
    "name": "ipython",
    "version": 3
   },
   "file_extension": ".py",
   "mimetype": "text/x-python",
   "name": "python",
   "nbconvert_exporter": "python",
   "pygments_lexer": "ipython3",
   "version": "3.8.5"
  }
 },
 "nbformat": 4,
 "nbformat_minor": 2
}
